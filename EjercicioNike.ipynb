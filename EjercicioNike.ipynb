{
  "nbformat": 4,
  "nbformat_minor": 0,
  "metadata": {
    "colab": {
      "provenance": [],
      "mount_file_id": "16FhfKhGEN8HnkEJgfaEG3vyLgmP7oA_k",
      "authorship_tag": "ABX9TyOCRDImewlUh1R40H7lVMov",
      "include_colab_link": true
    },
    "kernelspec": {
      "name": "python3",
      "display_name": "Python 3"
    },
    "language_info": {
      "name": "python"
    }
  },
  "cells": [
    {
      "cell_type": "markdown",
      "metadata": {
        "id": "view-in-github",
        "colab_type": "text"
      },
      "source": [
        "<a href=\"https://colab.research.google.com/github/jjaquezrd/Grupo_2_Data_Science/blob/main/EjercicioNike.ipynb\" target=\"_parent\"><img src=\"https://colab.research.google.com/assets/colab-badge.svg\" alt=\"Open In Colab\"/></a>"
      ]
    },
    {
      "cell_type": "code",
      "execution_count": 21,
      "metadata": {
        "id": "JvoDLTCAaT-Z"
      },
      "outputs": [],
      "source": [
        "import pandas as pd\n",
        "import numpy as np\n",
        "import matplotlib.pyplot as plt"
      ]
    },
    {
      "cell_type": "code",
      "source": [
        "df = pd.read_csv('/content/drive/MyDrive/Data_Science/nike_data_2022_09.csv')\n",
        "df.head()"
      ],
      "metadata": {
        "colab": {
          "base_uri": "https://localhost:8080/",
          "height": 635
        },
        "id": "fZodV-5Sadgi",
        "outputId": "95c94d15-459a-4327-ebcc-dc3ed568c11f"
      },
      "execution_count": 22,
      "outputs": [
        {
          "output_type": "execute_result",
          "data": {
            "text/plain": [
              "   index                                                url  \\\n",
              "0      0  https://www.nike.com/t/dri-fit-team-minnesota-...   \n",
              "1      1  https://www.nike.com/t/club-américa-womens-dri...   \n",
              "2      2  https://www.nike.com/t/sportswear-swoosh-mens-...   \n",
              "3      3  https://www.nike.com/t/dri-fit-one-luxe-big-ki...   \n",
              "4      4  https://www.nike.com/t/paris-saint-germain-rep...   \n",
              "\n",
              "                                      name  \\\n",
              "0  Nike Dri-FIT Team (MLB Minnesota Twins)   \n",
              "1                             Club América   \n",
              "2                   Nike Sportswear Swoosh   \n",
              "3                    Nike Dri-FIT One Luxe   \n",
              "4    Paris Saint-Germain Repel Academy AWF   \n",
              "\n",
              "                                           sub_title brand     model  \\\n",
              "0                          Men's Long-Sleeve T-Shirt  Nike  14226571   \n",
              "1           Women's Nike Dri-FIT Soccer Jersey Dress  Nike  13814665   \n",
              "2                                     Men's Overalls  Nike  13015648   \n",
              "3  Big Kids' (Girls') Printed Tights (Extended Size)  Nike  13809796   \n",
              "4                            Big Kids' Soccer Jacket  Nike  13327415   \n",
              "\n",
              "                                 color   price currency availability  \\\n",
              "0                                 Navy   40.00      USD      InStock   \n",
              "1                          Black/Black   90.00      USD      InStock   \n",
              "2                          Black/White  140.00      USD   OutOfStock   \n",
              "3                      Black/Rush Pink   22.97      USD   OutOfStock   \n",
              "4  Dark Grey/Black/Siren Red/Siren Red   70.00      USD      InStock   \n",
              "\n",
              "                                         description  \\\n",
              "0  SWEAT-WICKING COMFORT.The Nike Dri-FIT Team (M...   \n",
              "1  Inspired by traditional soccer jerseys, the Cl...   \n",
              "2  WORKING HARD TO KEEP YOU COMFORTABLE.The Nike ...   \n",
              "3  ELEVATED COMFORT GOES FULL BLOOM.The Nike Dri-...   \n",
              "4  WATER-REPELLENT COVERAGE GETS PSG DETAILS.The ...   \n",
              "\n",
              "                                     raw_description  avg_rating  \\\n",
              "0  <div class=\"pi-pdpmainbody\"><p><b class=\"headl...         NaN   \n",
              "1  <div class=\"pi-pdpmainbody\"><br/><p>Inspired b...         5.0   \n",
              "2  <div class=\"pi-pdpmainbody\"><p><b class=\"headl...         4.9   \n",
              "3  <div class=\"pi-pdpmainbody\"><p><b class=\"headl...         NaN   \n",
              "4  <div class=\"pi-pdpmainbody\"><p><b class=\"headl...         NaN   \n",
              "\n",
              "   review_count                                             images  \\\n",
              "0           NaN  https://static.nike.com/a/images/t_PDP_1280_v1...   \n",
              "1           1.0  https://static.nike.com/a/images/t_PDP_1280_v1...   \n",
              "2          11.0  https://static.nike.com/a/images/t_PDP_1280_v1...   \n",
              "3           NaN  https://static.nike.com/a/images/t_PDP_1280_v1...   \n",
              "4           NaN  https://static.nike.com/a/images/t_PDP_1280_v1...   \n",
              "\n",
              "        available_sizes                               uniq_id  \\\n",
              "0  S | M | L | XL | 2XL  c3229e54-aa58-5fdd-9f71-fbe66366b2b2   \n",
              "1             L (12–14)  f8ebb2ed-17ae-5719-b750-5ea3ec69b75c   \n",
              "2                   NaN  88120081-e6cb-5399-b9dc-a2d3d5dd5206   \n",
              "3                   NaN  98348cc5-1520-5b6e-a5f6-c42547b6a092   \n",
              "4   XS | S | M | L | XL  f15981a5-d8c9-53fa-880d-80606be188fe   \n",
              "\n",
              "            scraped_at  \n",
              "0  20/09/2022 23:32:28  \n",
              "1  20/09/2022 23:32:40  \n",
              "2  20/09/2022 23:33:16  \n",
              "3  20/09/2022 23:33:17  \n",
              "4  20/09/2022 23:33:22  "
            ],
            "text/html": [
              "\n",
              "  <div id=\"df-d56bc6e3-917e-437f-8fa0-0c64a04de2eb\">\n",
              "    <div class=\"colab-df-container\">\n",
              "      <div>\n",
              "<style scoped>\n",
              "    .dataframe tbody tr th:only-of-type {\n",
              "        vertical-align: middle;\n",
              "    }\n",
              "\n",
              "    .dataframe tbody tr th {\n",
              "        vertical-align: top;\n",
              "    }\n",
              "\n",
              "    .dataframe thead th {\n",
              "        text-align: right;\n",
              "    }\n",
              "</style>\n",
              "<table border=\"1\" class=\"dataframe\">\n",
              "  <thead>\n",
              "    <tr style=\"text-align: right;\">\n",
              "      <th></th>\n",
              "      <th>index</th>\n",
              "      <th>url</th>\n",
              "      <th>name</th>\n",
              "      <th>sub_title</th>\n",
              "      <th>brand</th>\n",
              "      <th>model</th>\n",
              "      <th>color</th>\n",
              "      <th>price</th>\n",
              "      <th>currency</th>\n",
              "      <th>availability</th>\n",
              "      <th>description</th>\n",
              "      <th>raw_description</th>\n",
              "      <th>avg_rating</th>\n",
              "      <th>review_count</th>\n",
              "      <th>images</th>\n",
              "      <th>available_sizes</th>\n",
              "      <th>uniq_id</th>\n",
              "      <th>scraped_at</th>\n",
              "    </tr>\n",
              "  </thead>\n",
              "  <tbody>\n",
              "    <tr>\n",
              "      <th>0</th>\n",
              "      <td>0</td>\n",
              "      <td>https://www.nike.com/t/dri-fit-team-minnesota-...</td>\n",
              "      <td>Nike Dri-FIT Team (MLB Minnesota Twins)</td>\n",
              "      <td>Men's Long-Sleeve T-Shirt</td>\n",
              "      <td>Nike</td>\n",
              "      <td>14226571</td>\n",
              "      <td>Navy</td>\n",
              "      <td>40.00</td>\n",
              "      <td>USD</td>\n",
              "      <td>InStock</td>\n",
              "      <td>SWEAT-WICKING COMFORT.The Nike Dri-FIT Team (M...</td>\n",
              "      <td>&lt;div class=\"pi-pdpmainbody\"&gt;&lt;p&gt;&lt;b class=\"headl...</td>\n",
              "      <td>NaN</td>\n",
              "      <td>NaN</td>\n",
              "      <td>https://static.nike.com/a/images/t_PDP_1280_v1...</td>\n",
              "      <td>S | M | L | XL | 2XL</td>\n",
              "      <td>c3229e54-aa58-5fdd-9f71-fbe66366b2b2</td>\n",
              "      <td>20/09/2022 23:32:28</td>\n",
              "    </tr>\n",
              "    <tr>\n",
              "      <th>1</th>\n",
              "      <td>1</td>\n",
              "      <td>https://www.nike.com/t/club-américa-womens-dri...</td>\n",
              "      <td>Club América</td>\n",
              "      <td>Women's Nike Dri-FIT Soccer Jersey Dress</td>\n",
              "      <td>Nike</td>\n",
              "      <td>13814665</td>\n",
              "      <td>Black/Black</td>\n",
              "      <td>90.00</td>\n",
              "      <td>USD</td>\n",
              "      <td>InStock</td>\n",
              "      <td>Inspired by traditional soccer jerseys, the Cl...</td>\n",
              "      <td>&lt;div class=\"pi-pdpmainbody\"&gt;&lt;br/&gt;&lt;p&gt;Inspired b...</td>\n",
              "      <td>5.0</td>\n",
              "      <td>1.0</td>\n",
              "      <td>https://static.nike.com/a/images/t_PDP_1280_v1...</td>\n",
              "      <td>L (12–14)</td>\n",
              "      <td>f8ebb2ed-17ae-5719-b750-5ea3ec69b75c</td>\n",
              "      <td>20/09/2022 23:32:40</td>\n",
              "    </tr>\n",
              "    <tr>\n",
              "      <th>2</th>\n",
              "      <td>2</td>\n",
              "      <td>https://www.nike.com/t/sportswear-swoosh-mens-...</td>\n",
              "      <td>Nike Sportswear Swoosh</td>\n",
              "      <td>Men's Overalls</td>\n",
              "      <td>Nike</td>\n",
              "      <td>13015648</td>\n",
              "      <td>Black/White</td>\n",
              "      <td>140.00</td>\n",
              "      <td>USD</td>\n",
              "      <td>OutOfStock</td>\n",
              "      <td>WORKING HARD TO KEEP YOU COMFORTABLE.The Nike ...</td>\n",
              "      <td>&lt;div class=\"pi-pdpmainbody\"&gt;&lt;p&gt;&lt;b class=\"headl...</td>\n",
              "      <td>4.9</td>\n",
              "      <td>11.0</td>\n",
              "      <td>https://static.nike.com/a/images/t_PDP_1280_v1...</td>\n",
              "      <td>NaN</td>\n",
              "      <td>88120081-e6cb-5399-b9dc-a2d3d5dd5206</td>\n",
              "      <td>20/09/2022 23:33:16</td>\n",
              "    </tr>\n",
              "    <tr>\n",
              "      <th>3</th>\n",
              "      <td>3</td>\n",
              "      <td>https://www.nike.com/t/dri-fit-one-luxe-big-ki...</td>\n",
              "      <td>Nike Dri-FIT One Luxe</td>\n",
              "      <td>Big Kids' (Girls') Printed Tights (Extended Size)</td>\n",
              "      <td>Nike</td>\n",
              "      <td>13809796</td>\n",
              "      <td>Black/Rush Pink</td>\n",
              "      <td>22.97</td>\n",
              "      <td>USD</td>\n",
              "      <td>OutOfStock</td>\n",
              "      <td>ELEVATED COMFORT GOES FULL BLOOM.The Nike Dri-...</td>\n",
              "      <td>&lt;div class=\"pi-pdpmainbody\"&gt;&lt;p&gt;&lt;b class=\"headl...</td>\n",
              "      <td>NaN</td>\n",
              "      <td>NaN</td>\n",
              "      <td>https://static.nike.com/a/images/t_PDP_1280_v1...</td>\n",
              "      <td>NaN</td>\n",
              "      <td>98348cc5-1520-5b6e-a5f6-c42547b6a092</td>\n",
              "      <td>20/09/2022 23:33:17</td>\n",
              "    </tr>\n",
              "    <tr>\n",
              "      <th>4</th>\n",
              "      <td>4</td>\n",
              "      <td>https://www.nike.com/t/paris-saint-germain-rep...</td>\n",
              "      <td>Paris Saint-Germain Repel Academy AWF</td>\n",
              "      <td>Big Kids' Soccer Jacket</td>\n",
              "      <td>Nike</td>\n",
              "      <td>13327415</td>\n",
              "      <td>Dark Grey/Black/Siren Red/Siren Red</td>\n",
              "      <td>70.00</td>\n",
              "      <td>USD</td>\n",
              "      <td>InStock</td>\n",
              "      <td>WATER-REPELLENT COVERAGE GETS PSG DETAILS.The ...</td>\n",
              "      <td>&lt;div class=\"pi-pdpmainbody\"&gt;&lt;p&gt;&lt;b class=\"headl...</td>\n",
              "      <td>NaN</td>\n",
              "      <td>NaN</td>\n",
              "      <td>https://static.nike.com/a/images/t_PDP_1280_v1...</td>\n",
              "      <td>XS | S | M | L | XL</td>\n",
              "      <td>f15981a5-d8c9-53fa-880d-80606be188fe</td>\n",
              "      <td>20/09/2022 23:33:22</td>\n",
              "    </tr>\n",
              "  </tbody>\n",
              "</table>\n",
              "</div>\n",
              "      <button class=\"colab-df-convert\" onclick=\"convertToInteractive('df-d56bc6e3-917e-437f-8fa0-0c64a04de2eb')\"\n",
              "              title=\"Convert this dataframe to an interactive table.\"\n",
              "              style=\"display:none;\">\n",
              "        \n",
              "  <svg xmlns=\"http://www.w3.org/2000/svg\" height=\"24px\"viewBox=\"0 0 24 24\"\n",
              "       width=\"24px\">\n",
              "    <path d=\"M0 0h24v24H0V0z\" fill=\"none\"/>\n",
              "    <path d=\"M18.56 5.44l.94 2.06.94-2.06 2.06-.94-2.06-.94-.94-2.06-.94 2.06-2.06.94zm-11 1L8.5 8.5l.94-2.06 2.06-.94-2.06-.94L8.5 2.5l-.94 2.06-2.06.94zm10 10l.94 2.06.94-2.06 2.06-.94-2.06-.94-.94-2.06-.94 2.06-2.06.94z\"/><path d=\"M17.41 7.96l-1.37-1.37c-.4-.4-.92-.59-1.43-.59-.52 0-1.04.2-1.43.59L10.3 9.45l-7.72 7.72c-.78.78-.78 2.05 0 2.83L4 21.41c.39.39.9.59 1.41.59.51 0 1.02-.2 1.41-.59l7.78-7.78 2.81-2.81c.8-.78.8-2.07 0-2.86zM5.41 20L4 18.59l7.72-7.72 1.47 1.35L5.41 20z\"/>\n",
              "  </svg>\n",
              "      </button>\n",
              "      \n",
              "  <style>\n",
              "    .colab-df-container {\n",
              "      display:flex;\n",
              "      flex-wrap:wrap;\n",
              "      gap: 12px;\n",
              "    }\n",
              "\n",
              "    .colab-df-convert {\n",
              "      background-color: #E8F0FE;\n",
              "      border: none;\n",
              "      border-radius: 50%;\n",
              "      cursor: pointer;\n",
              "      display: none;\n",
              "      fill: #1967D2;\n",
              "      height: 32px;\n",
              "      padding: 0 0 0 0;\n",
              "      width: 32px;\n",
              "    }\n",
              "\n",
              "    .colab-df-convert:hover {\n",
              "      background-color: #E2EBFA;\n",
              "      box-shadow: 0px 1px 2px rgba(60, 64, 67, 0.3), 0px 1px 3px 1px rgba(60, 64, 67, 0.15);\n",
              "      fill: #174EA6;\n",
              "    }\n",
              "\n",
              "    [theme=dark] .colab-df-convert {\n",
              "      background-color: #3B4455;\n",
              "      fill: #D2E3FC;\n",
              "    }\n",
              "\n",
              "    [theme=dark] .colab-df-convert:hover {\n",
              "      background-color: #434B5C;\n",
              "      box-shadow: 0px 1px 3px 1px rgba(0, 0, 0, 0.15);\n",
              "      filter: drop-shadow(0px 1px 2px rgba(0, 0, 0, 0.3));\n",
              "      fill: #FFFFFF;\n",
              "    }\n",
              "  </style>\n",
              "\n",
              "      <script>\n",
              "        const buttonEl =\n",
              "          document.querySelector('#df-d56bc6e3-917e-437f-8fa0-0c64a04de2eb button.colab-df-convert');\n",
              "        buttonEl.style.display =\n",
              "          google.colab.kernel.accessAllowed ? 'block' : 'none';\n",
              "\n",
              "        async function convertToInteractive(key) {\n",
              "          const element = document.querySelector('#df-d56bc6e3-917e-437f-8fa0-0c64a04de2eb');\n",
              "          const dataTable =\n",
              "            await google.colab.kernel.invokeFunction('convertToInteractive',\n",
              "                                                     [key], {});\n",
              "          if (!dataTable) return;\n",
              "\n",
              "          const docLinkHtml = 'Like what you see? Visit the ' +\n",
              "            '<a target=\"_blank\" href=https://colab.research.google.com/notebooks/data_table.ipynb>data table notebook</a>'\n",
              "            + ' to learn more about interactive tables.';\n",
              "          element.innerHTML = '';\n",
              "          dataTable['output_type'] = 'display_data';\n",
              "          await google.colab.output.renderOutput(dataTable, element);\n",
              "          const docLink = document.createElement('div');\n",
              "          docLink.innerHTML = docLinkHtml;\n",
              "          element.appendChild(docLink);\n",
              "        }\n",
              "      </script>\n",
              "    </div>\n",
              "  </div>\n",
              "  "
            ]
          },
          "metadata": {},
          "execution_count": 22
        }
      ]
    },
    {
      "cell_type": "code",
      "source": [
        "df.info()"
      ],
      "metadata": {
        "colab": {
          "base_uri": "https://localhost:8080/"
        },
        "id": "XyMQkHTKgdOX",
        "outputId": "5b1a3e44-44f0-4857-833b-13948cbc63d0"
      },
      "execution_count": 23,
      "outputs": [
        {
          "output_type": "stream",
          "name": "stdout",
          "text": [
            "<class 'pandas.core.frame.DataFrame'>\n",
            "RangeIndex: 112 entries, 0 to 111\n",
            "Data columns (total 18 columns):\n",
            " #   Column           Non-Null Count  Dtype  \n",
            "---  ------           --------------  -----  \n",
            " 0   index            112 non-null    int64  \n",
            " 1   url              112 non-null    object \n",
            " 2   name             112 non-null    object \n",
            " 3   sub_title        112 non-null    object \n",
            " 4   brand            112 non-null    object \n",
            " 5   model            112 non-null    int64  \n",
            " 6   color            110 non-null    object \n",
            " 7   price            112 non-null    float64\n",
            " 8   currency         112 non-null    object \n",
            " 9   availability     108 non-null    object \n",
            " 10  description      112 non-null    object \n",
            " 11  raw_description  112 non-null    object \n",
            " 12  avg_rating       23 non-null     float64\n",
            " 13  review_count     23 non-null     float64\n",
            " 14  images           108 non-null    object \n",
            " 15  available_sizes  56 non-null     object \n",
            " 16  uniq_id          112 non-null    object \n",
            " 17  scraped_at       112 non-null    object \n",
            "dtypes: float64(3), int64(2), object(13)\n",
            "memory usage: 15.9+ KB\n"
          ]
        }
      ]
    },
    {
      "cell_type": "markdown",
      "source": [
        "## Eliminar columnas no necesarias para el analisis\n"
      ],
      "metadata": {
        "id": "dB_QdTEUhk1g"
      }
    },
    {
      "cell_type": "code",
      "source": [
        "## Raw description\n",
        "## images\n",
        "df= df.drop(['raw_description','images'], axis=1)"
      ],
      "metadata": {
        "id": "9YuPmG_ah7Mr"
      },
      "execution_count": 24,
      "outputs": []
    },
    {
      "cell_type": "code",
      "source": [
        "df.info()"
      ],
      "metadata": {
        "colab": {
          "base_uri": "https://localhost:8080/"
        },
        "id": "L__j4N0bjSfZ",
        "outputId": "2d54ebb3-cf26-4e4e-a07d-b9c929f6ee77"
      },
      "execution_count": 25,
      "outputs": [
        {
          "output_type": "stream",
          "name": "stdout",
          "text": [
            "<class 'pandas.core.frame.DataFrame'>\n",
            "RangeIndex: 112 entries, 0 to 111\n",
            "Data columns (total 16 columns):\n",
            " #   Column           Non-Null Count  Dtype  \n",
            "---  ------           --------------  -----  \n",
            " 0   index            112 non-null    int64  \n",
            " 1   url              112 non-null    object \n",
            " 2   name             112 non-null    object \n",
            " 3   sub_title        112 non-null    object \n",
            " 4   brand            112 non-null    object \n",
            " 5   model            112 non-null    int64  \n",
            " 6   color            110 non-null    object \n",
            " 7   price            112 non-null    float64\n",
            " 8   currency         112 non-null    object \n",
            " 9   availability     108 non-null    object \n",
            " 10  description      112 non-null    object \n",
            " 11  avg_rating       23 non-null     float64\n",
            " 12  review_count     23 non-null     float64\n",
            " 13  available_sizes  56 non-null     object \n",
            " 14  uniq_id          112 non-null    object \n",
            " 15  scraped_at       112 non-null    object \n",
            "dtypes: float64(3), int64(2), object(11)\n",
            "memory usage: 14.1+ KB\n"
          ]
        }
      ]
    },
    {
      "cell_type": "markdown",
      "source": [
        "Cambiando el tipo de datos de scraped_at a fecha a fin de verificar si la extraccion de datos fue en un unico dia o encierra algun periodo de tiempo"
      ],
      "metadata": {
        "id": "Kqtagg71jntC"
      }
    },
    {
      "cell_type": "code",
      "source": [
        "df['scraped_at']= pd.to_datetime(df['scraped_at']).dt.date"
      ],
      "metadata": {
        "id": "92Q0U-QKjzmC"
      },
      "execution_count": 26,
      "outputs": []
    },
    {
      "cell_type": "code",
      "source": [
        "df.groupby('scraped_at')['index'].count()"
      ],
      "metadata": {
        "colab": {
          "base_uri": "https://localhost:8080/"
        },
        "id": "KUgbTSb4kWqy",
        "outputId": "ad155a3d-9149-422d-9177-9442e41e3d6f"
      },
      "execution_count": 31,
      "outputs": [
        {
          "output_type": "execute_result",
          "data": {
            "text/plain": [
              "scraped_at\n",
              "2022-09-20    112\n",
              "Name: index, dtype: int64"
            ]
          },
          "metadata": {},
          "execution_count": 31
        }
      ]
    },
    {
      "cell_type": "markdown",
      "source": [
        "Se confrima que la extraccion de datos fue realizada en la misma fecha. No se contiene un rango de tiempo a fin de construir un historico o visualizar tendencias"
      ],
      "metadata": {
        "id": "Qi4Mgz3GlZ-d"
      }
    },
    {
      "cell_type": "markdown",
      "source": [
        "Examen sobre la columna 'Avialiability' ya que presenta solo 4 registros nulos, por lo que existe posibilidad de eliminarla. "
      ],
      "metadata": {
        "id": "FqTcX5IJnnkY"
      }
    },
    {
      "cell_type": "code",
      "source": [
        "aviability_fileter = df['availability'].isna()\n",
        "df[aviability_fileter].head()"
      ],
      "metadata": {
        "colab": {
          "base_uri": "https://localhost:8080/",
          "height": 534
        },
        "id": "5kL8ojeGljP7",
        "outputId": "b794beb7-0bf9-479f-bd9f-2c5f9f1e18b5"
      },
      "execution_count": 36,
      "outputs": [
        {
          "output_type": "execute_result",
          "data": {
            "text/plain": [
              "    index                                                url  \\\n",
              "12     12  https://www.nike.com/t/croatia-2022-23-stadium...   \n",
              "17     17  https://www.nike.com/t/portugal-2022-23-stadiu...   \n",
              "29     29  https://www.nike.com/t/dri-fit-crucial-catch-b...   \n",
              "92     92  https://www.nike.com/t/us-academy-pro-big-kids...   \n",
              "\n",
              "                                              name  \\\n",
              "12                    Croatia 2022/23 Stadium Away   \n",
              "17                   Portugal 2022/23 Stadium Home   \n",
              "29  Nike Dri-FIT Crucial Catch (NFL Buffalo Bills)   \n",
              "92                                U.S. Academy Pro   \n",
              "\n",
              "                                         sub_title brand     model  \\\n",
              "12              Women's Nike Dri-FIT Soccer Jersey  Nike  14063839   \n",
              "17                Men's Nike Dri-FIT Soccer Shorts  Nike  14063778   \n",
              "29                         Women's Pullover Hoodie  Nike  14234141   \n",
              "92  Big Kids' Nike Dri-FIT Short-Sleeve Soccer Top  Nike  14062977   \n",
              "\n",
              "                               color  price currency availability  \\\n",
              "12     Blackened Blue/University Red   95.0      USD          NaN   \n",
              "17  Gorge Green/Pepper Red/Gold Dart   52.0      USD          NaN   \n",
              "29                             Black   85.0      USD          NaN   \n",
              "92                    Obsidian/White   30.0      USD          NaN   \n",
              "\n",
              "                                          description  avg_rating  \\\n",
              "12   Like other jerseys from our Stadium collectio...         NaN   \n",
              "17   Like other shorts from our Stadium collection...         NaN   \n",
              "29  LIGHTWEIGHT COVERAGE.The Nike Dri-FIT Crucial ...         NaN   \n",
              "92  UP YOUR GAME.After conquering the basics, take...         NaN   \n",
              "\n",
              "    review_count available_sizes                               uniq_id  \\\n",
              "12           NaN             NaN  4a3f7333-1945-5f1e-b0e3-829f40f28bb3   \n",
              "17           NaN             NaN  c3fc0349-a9e4-5610-a676-9f7b5e8b4dfd   \n",
              "29           NaN             NaN  dc43a48d-3767-5991-9608-f5ef49c4c9d8   \n",
              "92           NaN             NaN  78db57cc-f5a2-5542-8400-ab327e91cfef   \n",
              "\n",
              "    scraped_at  \n",
              "12  2022-09-20  \n",
              "17  2022-09-20  \n",
              "29  2022-09-20  \n",
              "92  2022-09-20  "
            ],
            "text/html": [
              "\n",
              "  <div id=\"df-2b5fb928-3fcc-4ee6-8d66-e0b8c1226051\">\n",
              "    <div class=\"colab-df-container\">\n",
              "      <div>\n",
              "<style scoped>\n",
              "    .dataframe tbody tr th:only-of-type {\n",
              "        vertical-align: middle;\n",
              "    }\n",
              "\n",
              "    .dataframe tbody tr th {\n",
              "        vertical-align: top;\n",
              "    }\n",
              "\n",
              "    .dataframe thead th {\n",
              "        text-align: right;\n",
              "    }\n",
              "</style>\n",
              "<table border=\"1\" class=\"dataframe\">\n",
              "  <thead>\n",
              "    <tr style=\"text-align: right;\">\n",
              "      <th></th>\n",
              "      <th>index</th>\n",
              "      <th>url</th>\n",
              "      <th>name</th>\n",
              "      <th>sub_title</th>\n",
              "      <th>brand</th>\n",
              "      <th>model</th>\n",
              "      <th>color</th>\n",
              "      <th>price</th>\n",
              "      <th>currency</th>\n",
              "      <th>availability</th>\n",
              "      <th>description</th>\n",
              "      <th>avg_rating</th>\n",
              "      <th>review_count</th>\n",
              "      <th>available_sizes</th>\n",
              "      <th>uniq_id</th>\n",
              "      <th>scraped_at</th>\n",
              "    </tr>\n",
              "  </thead>\n",
              "  <tbody>\n",
              "    <tr>\n",
              "      <th>12</th>\n",
              "      <td>12</td>\n",
              "      <td>https://www.nike.com/t/croatia-2022-23-stadium...</td>\n",
              "      <td>Croatia 2022/23 Stadium Away</td>\n",
              "      <td>Women's Nike Dri-FIT Soccer Jersey</td>\n",
              "      <td>Nike</td>\n",
              "      <td>14063839</td>\n",
              "      <td>Blackened Blue/University Red</td>\n",
              "      <td>95.0</td>\n",
              "      <td>USD</td>\n",
              "      <td>NaN</td>\n",
              "      <td>Like other jerseys from our Stadium collectio...</td>\n",
              "      <td>NaN</td>\n",
              "      <td>NaN</td>\n",
              "      <td>NaN</td>\n",
              "      <td>4a3f7333-1945-5f1e-b0e3-829f40f28bb3</td>\n",
              "      <td>2022-09-20</td>\n",
              "    </tr>\n",
              "    <tr>\n",
              "      <th>17</th>\n",
              "      <td>17</td>\n",
              "      <td>https://www.nike.com/t/portugal-2022-23-stadiu...</td>\n",
              "      <td>Portugal 2022/23 Stadium Home</td>\n",
              "      <td>Men's Nike Dri-FIT Soccer Shorts</td>\n",
              "      <td>Nike</td>\n",
              "      <td>14063778</td>\n",
              "      <td>Gorge Green/Pepper Red/Gold Dart</td>\n",
              "      <td>52.0</td>\n",
              "      <td>USD</td>\n",
              "      <td>NaN</td>\n",
              "      <td>Like other shorts from our Stadium collection...</td>\n",
              "      <td>NaN</td>\n",
              "      <td>NaN</td>\n",
              "      <td>NaN</td>\n",
              "      <td>c3fc0349-a9e4-5610-a676-9f7b5e8b4dfd</td>\n",
              "      <td>2022-09-20</td>\n",
              "    </tr>\n",
              "    <tr>\n",
              "      <th>29</th>\n",
              "      <td>29</td>\n",
              "      <td>https://www.nike.com/t/dri-fit-crucial-catch-b...</td>\n",
              "      <td>Nike Dri-FIT Crucial Catch (NFL Buffalo Bills)</td>\n",
              "      <td>Women's Pullover Hoodie</td>\n",
              "      <td>Nike</td>\n",
              "      <td>14234141</td>\n",
              "      <td>Black</td>\n",
              "      <td>85.0</td>\n",
              "      <td>USD</td>\n",
              "      <td>NaN</td>\n",
              "      <td>LIGHTWEIGHT COVERAGE.The Nike Dri-FIT Crucial ...</td>\n",
              "      <td>NaN</td>\n",
              "      <td>NaN</td>\n",
              "      <td>NaN</td>\n",
              "      <td>dc43a48d-3767-5991-9608-f5ef49c4c9d8</td>\n",
              "      <td>2022-09-20</td>\n",
              "    </tr>\n",
              "    <tr>\n",
              "      <th>92</th>\n",
              "      <td>92</td>\n",
              "      <td>https://www.nike.com/t/us-academy-pro-big-kids...</td>\n",
              "      <td>U.S. Academy Pro</td>\n",
              "      <td>Big Kids' Nike Dri-FIT Short-Sleeve Soccer Top</td>\n",
              "      <td>Nike</td>\n",
              "      <td>14062977</td>\n",
              "      <td>Obsidian/White</td>\n",
              "      <td>30.0</td>\n",
              "      <td>USD</td>\n",
              "      <td>NaN</td>\n",
              "      <td>UP YOUR GAME.After conquering the basics, take...</td>\n",
              "      <td>NaN</td>\n",
              "      <td>NaN</td>\n",
              "      <td>NaN</td>\n",
              "      <td>78db57cc-f5a2-5542-8400-ab327e91cfef</td>\n",
              "      <td>2022-09-20</td>\n",
              "    </tr>\n",
              "  </tbody>\n",
              "</table>\n",
              "</div>\n",
              "      <button class=\"colab-df-convert\" onclick=\"convertToInteractive('df-2b5fb928-3fcc-4ee6-8d66-e0b8c1226051')\"\n",
              "              title=\"Convert this dataframe to an interactive table.\"\n",
              "              style=\"display:none;\">\n",
              "        \n",
              "  <svg xmlns=\"http://www.w3.org/2000/svg\" height=\"24px\"viewBox=\"0 0 24 24\"\n",
              "       width=\"24px\">\n",
              "    <path d=\"M0 0h24v24H0V0z\" fill=\"none\"/>\n",
              "    <path d=\"M18.56 5.44l.94 2.06.94-2.06 2.06-.94-2.06-.94-.94-2.06-.94 2.06-2.06.94zm-11 1L8.5 8.5l.94-2.06 2.06-.94-2.06-.94L8.5 2.5l-.94 2.06-2.06.94zm10 10l.94 2.06.94-2.06 2.06-.94-2.06-.94-.94-2.06-.94 2.06-2.06.94z\"/><path d=\"M17.41 7.96l-1.37-1.37c-.4-.4-.92-.59-1.43-.59-.52 0-1.04.2-1.43.59L10.3 9.45l-7.72 7.72c-.78.78-.78 2.05 0 2.83L4 21.41c.39.39.9.59 1.41.59.51 0 1.02-.2 1.41-.59l7.78-7.78 2.81-2.81c.8-.78.8-2.07 0-2.86zM5.41 20L4 18.59l7.72-7.72 1.47 1.35L5.41 20z\"/>\n",
              "  </svg>\n",
              "      </button>\n",
              "      \n",
              "  <style>\n",
              "    .colab-df-container {\n",
              "      display:flex;\n",
              "      flex-wrap:wrap;\n",
              "      gap: 12px;\n",
              "    }\n",
              "\n",
              "    .colab-df-convert {\n",
              "      background-color: #E8F0FE;\n",
              "      border: none;\n",
              "      border-radius: 50%;\n",
              "      cursor: pointer;\n",
              "      display: none;\n",
              "      fill: #1967D2;\n",
              "      height: 32px;\n",
              "      padding: 0 0 0 0;\n",
              "      width: 32px;\n",
              "    }\n",
              "\n",
              "    .colab-df-convert:hover {\n",
              "      background-color: #E2EBFA;\n",
              "      box-shadow: 0px 1px 2px rgba(60, 64, 67, 0.3), 0px 1px 3px 1px rgba(60, 64, 67, 0.15);\n",
              "      fill: #174EA6;\n",
              "    }\n",
              "\n",
              "    [theme=dark] .colab-df-convert {\n",
              "      background-color: #3B4455;\n",
              "      fill: #D2E3FC;\n",
              "    }\n",
              "\n",
              "    [theme=dark] .colab-df-convert:hover {\n",
              "      background-color: #434B5C;\n",
              "      box-shadow: 0px 1px 3px 1px rgba(0, 0, 0, 0.15);\n",
              "      filter: drop-shadow(0px 1px 2px rgba(0, 0, 0, 0.3));\n",
              "      fill: #FFFFFF;\n",
              "    }\n",
              "  </style>\n",
              "\n",
              "      <script>\n",
              "        const buttonEl =\n",
              "          document.querySelector('#df-2b5fb928-3fcc-4ee6-8d66-e0b8c1226051 button.colab-df-convert');\n",
              "        buttonEl.style.display =\n",
              "          google.colab.kernel.accessAllowed ? 'block' : 'none';\n",
              "\n",
              "        async function convertToInteractive(key) {\n",
              "          const element = document.querySelector('#df-2b5fb928-3fcc-4ee6-8d66-e0b8c1226051');\n",
              "          const dataTable =\n",
              "            await google.colab.kernel.invokeFunction('convertToInteractive',\n",
              "                                                     [key], {});\n",
              "          if (!dataTable) return;\n",
              "\n",
              "          const docLinkHtml = 'Like what you see? Visit the ' +\n",
              "            '<a target=\"_blank\" href=https://colab.research.google.com/notebooks/data_table.ipynb>data table notebook</a>'\n",
              "            + ' to learn more about interactive tables.';\n",
              "          element.innerHTML = '';\n",
              "          dataTable['output_type'] = 'display_data';\n",
              "          await google.colab.output.renderOutput(dataTable, element);\n",
              "          const docLink = document.createElement('div');\n",
              "          docLink.innerHTML = docLinkHtml;\n",
              "          element.appendChild(docLink);\n",
              "        }\n",
              "      </script>\n",
              "    </div>\n",
              "  </div>\n",
              "  "
            ]
          },
          "metadata": {},
          "execution_count": 36
        }
      ]
    },
    {
      "cell_type": "markdown",
      "source": [
        "Se confirma que los cuatro registros para los cuales no se registra la disponibilidad, segun su descripcion corresponden a versiones limitadas de eventos o equipos deportivos. Se recomienda eliminacion"
      ],
      "metadata": {
        "id": "ufypXKbTn_Aw"
      }
    },
    {
      "cell_type": "code",
      "source": [
        "indexna= df[aviability_fileter].index\n",
        "df.drop(indexna, inplace=True)"
      ],
      "metadata": {
        "id": "8n2P5qrroLXV"
      },
      "execution_count": 48,
      "outputs": []
    },
    {
      "cell_type": "code",
      "source": [
        "df.info()"
      ],
      "metadata": {
        "colab": {
          "base_uri": "https://localhost:8080/"
        },
        "id": "hm9m-dUgpIyV",
        "outputId": "643a427f-3b4c-44b7-e085-07f9d06837cf"
      },
      "execution_count": 49,
      "outputs": [
        {
          "output_type": "stream",
          "name": "stdout",
          "text": [
            "<class 'pandas.core.frame.DataFrame'>\n",
            "Int64Index: 108 entries, 0 to 111\n",
            "Data columns (total 16 columns):\n",
            " #   Column           Non-Null Count  Dtype  \n",
            "---  ------           --------------  -----  \n",
            " 0   index            108 non-null    int64  \n",
            " 1   url              108 non-null    object \n",
            " 2   name             108 non-null    object \n",
            " 3   sub_title        108 non-null    object \n",
            " 4   brand            108 non-null    object \n",
            " 5   model            108 non-null    int64  \n",
            " 6   color            106 non-null    object \n",
            " 7   price            108 non-null    float64\n",
            " 8   currency         108 non-null    object \n",
            " 9   availability     108 non-null    object \n",
            " 10  description      108 non-null    object \n",
            " 11  avg_rating       23 non-null     float64\n",
            " 12  review_count     23 non-null     float64\n",
            " 13  available_sizes  56 non-null     object \n",
            " 14  uniq_id          108 non-null    object \n",
            " 15  scraped_at       108 non-null    object \n",
            "dtypes: float64(3), int64(2), object(11)\n",
            "memory usage: 14.3+ KB\n"
          ]
        }
      ]
    },
    {
      "cell_type": "markdown",
      "source": [
        "## Analisis valores nulos columnas Avg_rating y Review_count\n",
        "Estas columnas presentan un alto indice de datos nulos, siendo estas columnas reelevantes para un analisis de predicicion de compras y ventas."
      ],
      "metadata": {
        "id": "iUDSwNrwvc66"
      }
    },
    {
      "cell_type": "code",
      "source": [],
      "metadata": {
        "id": "fjj9ohu7vyHL"
      },
      "execution_count": null,
      "outputs": []
    },
    {
      "cell_type": "code",
      "source": [
        "##Filtro para verificar la relacion entre los nulos de la columna avg_rating y review_count. Determinar\n",
        "#si cuando una columna esta vacia la otra tambien.\n",
        "filtroNa = df['avg_rating'].isna() & df['review_count'].isna()\n",
        "df[filtroNa].groupby(['name','sub_title'])['index'].count()"
      ],
      "metadata": {
        "colab": {
          "base_uri": "https://localhost:8080/"
        },
        "id": "zPfKHP5zr0kY",
        "outputId": "5cbfac22-0216-4b99-81e4-1062f55ab74f"
      },
      "execution_count": 56,
      "outputs": [
        {
          "output_type": "execute_result",
          "data": {
            "text/plain": [
              "name                                       sub_title                           \n",
              "Air Jordan 1 Low SE                        Big Kids' Shoes                         1\n",
              "Air Jordan XXXV Low DS PF                  Basketball Shoes                        1\n",
              "Air Jordan XXXVI Low Luka PF               Men's Basketball Shoes                  1\n",
              "Charlotte Hornets                          Men's Jordan NBA T-Shirt                1\n",
              "Chelsea FC Repel Academy AWF               Men's Soccer Jacket                     1\n",
              "                                                                                  ..\n",
              "Paris-Saint Germain 2021/22 Stadium Third  Big Kids' Nike Dri-FIT Soccer Jersey    1\n",
              "Philadelphia 76ers                         Men's Nike NBA Shorts                   1\n",
              "Sacramento Kings Icon Edition              Men's Nike NBA Swingman Shorts          1\n",
              "Sylvia Fowles Lynx Explorer Edition        Nike Dri-FIT WNBA Victory Jersey        1\n",
              "Team 31                                    Women's Nike NBA Cropped T-Shirt        1\n",
              "Name: index, Length: 85, dtype: int64"
            ]
          },
          "metadata": {},
          "execution_count": 56
        }
      ]
    },
    {
      "cell_type": "markdown",
      "source": [
        "Se confirma la relacion entre las columnas bajo analisis ya que 85 registros de 108 poseen ambas columnas vacias. Los articulos que presentan estas columnas vacias se destacan en los grupos arriba."
      ],
      "metadata": {
        "id": "tqmH1eUTwGCL"
      }
    }
  ]
}